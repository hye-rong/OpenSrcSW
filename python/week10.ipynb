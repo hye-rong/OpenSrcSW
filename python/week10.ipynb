{
 "cells": [
  {
   "cell_type": "code",
   "execution_count": 4,
   "id": "1c326df1",
   "metadata": {},
   "outputs": [
    {
     "name": "stdout",
     "output_type": "stream",
     "text": [
      "Numbers? 10 80 50 66 90 999 43\n",
      "[999, 90, 80, 66, 50, 43, 10]\n",
      "999\n"
     ]
    }
   ],
   "source": [
    "#실습2 최대값 구하기\n",
    "numbers = input(\"Numbers? \")\n",
    "numlist = numbers.split(\" \")\n",
    "num = []\n",
    "for n in numlist:\n",
    "    num.append(int(n))\n",
    "num.sort()\n",
    "num.reverse()\n",
    "print(num)\n",
    "print(num[0])"
   ]
  },
  {
   "cell_type": "code",
   "execution_count": 5,
   "id": "c2b86d15",
   "metadata": {},
   "outputs": [
    {
     "name": "stdout",
     "output_type": "stream",
     "text": [
      "encryption=>input string: abc def\n",
      "efg bcd \n",
      "decryption=>input string: efg bcd\n",
      "abc def \n"
     ]
    }
   ],
   "source": [
    "#실습3 암호화/복호화\n",
    "#들어오는 string은 모두 소문자라고 가정함\n",
    "def encryption(string):\n",
    "    newString = \"\"\n",
    "    result = \"\"\n",
    "    for c in string:\n",
    "        if(c>=\"a\" and c<=\"z\"):\n",
    "            newString+=chr(ord(c)+1)\n",
    "        else:\n",
    "            newString+=c\n",
    "    list = newString.split()\n",
    "    list.reverse()\n",
    "    for s in list:\n",
    "        result += s + \" \"\n",
    "    return result\n",
    "\n",
    "def decryption(string):\n",
    "    newString = \"\"\n",
    "    result = \"\"\n",
    "    for c in string:\n",
    "        if(c>=\"a\" and c<=\"z\"):\n",
    "            newString+=chr(ord(c)-1)\n",
    "        else:\n",
    "            newString+=c\n",
    "    list = newString.split()\n",
    "    list.reverse()\n",
    "    for s in list:\n",
    "        result += s+\" \"\n",
    "    return result\n",
    "\n",
    "if __name__ == \"__main__\":\n",
    "    string = input(\"encryption=>input string: \")\n",
    "    print(encryption(string))\n",
    "    string = input(\"decryption=>input string: \")\n",
    "    print(decryption(string))"
   ]
  },
  {
   "cell_type": "code",
   "execution_count": 7,
   "id": "ccc3c356",
   "metadata": {},
   "outputs": [
    {
     "name": "stdout",
     "output_type": "stream",
     "text": [
      "이름 전화번호 입력:aa 111\n",
      "이름 전화번호 입력:bb 22\n",
      "이름 전화번호 입력:ss 33\n",
      "이름 전화번호 입력:dd 44\n",
      "이름 전화번호 입력:ff 55\n",
      "이름 전화번호 입력:gg 66\n",
      "이름 전화번호 입력:hh 77\n",
      "이름 전화번호 입력:jj 88\n",
      "이름 전화번호 입력:kk 99\n",
      "이름 전화번호 입력:ll 10\n",
      "검색할 이름:kk\n",
      "99\n",
      "검색할 전화번호:111\n",
      "aa\n"
     ]
    }
   ],
   "source": [
    "#실습4 전화번호부\n",
    "dic = {}\n",
    "for i in range(10):\n",
    "    str = input(\"이름 전화번호 입력:\")\n",
    "    s = str.split()\n",
    "    dic[s[0]] = s[1]\n",
    "name = input(\"검색할 이름:\")\n",
    "if(name in dic):\n",
    "    print(dic[name])\n",
    "else:\n",
    "    print(\"존재하지 않음\")\n",
    "    \n",
    "tel = input(\"검색할 전화번호:\")\n",
    "for k, v in dic.items():\n",
    "    if(tel==v):\n",
    "        print(k)\n",
    "        "
   ]
  },
  {
   "cell_type": "code",
   "execution_count": null,
   "id": "8d2038de",
   "metadata": {},
   "outputs": [],
   "source": []
  }
 ],
 "metadata": {
  "kernelspec": {
   "display_name": "Python 3",
   "language": "python",
   "name": "python3"
  },
  "language_info": {
   "codemirror_mode": {
    "name": "ipython",
    "version": 3
   },
   "file_extension": ".py",
   "mimetype": "text/x-python",
   "name": "python",
   "nbconvert_exporter": "python",
   "pygments_lexer": "ipython3",
   "version": "3.9.0"
  }
 },
 "nbformat": 4,
 "nbformat_minor": 5
}
