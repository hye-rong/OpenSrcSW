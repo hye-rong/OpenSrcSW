{
 "cells": [
  {
   "cell_type": "code",
   "execution_count": 1,
   "metadata": {},
   "outputs": [
    {
     "name": "stdout",
     "output_type": "stream",
     "text": [
      "(1,2)\n",
      "(3,4)\n",
      "(4,6)\n"
     ]
    }
   ],
   "source": [
    "class Point:\n",
    "    a = 0\n",
    "    b = 0\n",
    "    def __init__(self, aa, bb):\n",
    "        self.a = aa\n",
    "        self.b = bb\n",
    "    def show(self):\n",
    "        print(\"({0:d},{1:d})\".format(self.a, self.b))\n",
    "    def __add__(self, s):\n",
    "        x = self.a + s.a\n",
    "        y = self.b + s.b\n",
    "        return Point(x, y)\n",
    "        \n",
    "a = Point(1,2)\n",
    "a.show()\n",
    "\n",
    "b= Point(3,4)\n",
    "b.show()\n",
    "\n",
    "a = a+b\n",
    "a.show()"
   ]
  },
  {
   "cell_type": "code",
   "execution_count": 2,
   "metadata": {},
   "outputs": [
    {
     "name": "stdout",
     "output_type": "stream",
     "text": [
      "Max week = 5/12 ~ 5/18\n"
     ]
    }
   ],
   "source": [
    "import pandas as pd\n",
    "import numpy as np\n",
    "import sys\n",
    "\n",
    "data = pd.read_csv('seoul.csv', encoding='cp949')\n",
    "\n",
    "\n",
    "ndata = np.array(data.iloc[:, 3:]) #데이터만 추출\n",
    "\n",
    "\n",
    "result = []\n",
    "tmp = 0\n",
    "for i in range(len(ndata)):\n",
    "    tmp = 0\n",
    "    if(i+6 <len(ndata)):\n",
    "        for j in range(7):\n",
    "            tmp += ndata[i+j,0]+ndata[i+j,1]\n",
    "        result.append(tmp)\n",
    "        \n",
    "max_idx = 0\n",
    "max_tmp = 0\n",
    "for i in range(len(result)):\n",
    "    if result[max_idx]<result[i]:\n",
    "        max_tmp = result[i]\n",
    "        max_idx = i\n",
    "\n",
    "print(\"Max week = 5/{0:d} ~ 5/{1:d}\".format(max_idx+1, max_idx+7))\n"
   ]
  },
  {
   "cell_type": "code",
   "execution_count": 3,
   "metadata": {},
   "outputs": [
    {
     "name": "stdout",
     "output_type": "stream",
     "text": [
      "[[1 1 0 1 0 1]\n",
      " [1 1 1 0 1 0]\n",
      " [1 1 0 1 0 0]]\n",
      "[1 1 0 0 1 0]\n",
      "3\n",
      "1.7320508075688772\n",
      "x: [2 3 2]\n",
      "[2.0, 2.0, 1.7320508075688772]\n",
      "[0.5773502691896258, 0.8660254037844387, 0.6666666666666667]\n"
     ]
    },
    {
     "data": {
      "text/plain": [
       "<function matplotlib.pyplot.show(close=None, block=None)>"
      ]
     },
     "execution_count": 3,
     "metadata": {},
     "output_type": "execute_result"
    },
    {
     "data": {
      "image/png": "[encoded data removed]",
      "text/plain": [
       "<Figure size 432x288 with 1 Axes>"
      ]
     },
     "metadata": {
      "needs_background": "light"
     },
     "output_type": "display_data"
    }
   ],
   "source": [
    "import pandas as pd \n",
    "import numpy as np \n",
    "import sys\n",
    "import matplotlib.pyplot as plt\n",
    "\n",
    "l1 = [1,1,0,1,0,1,1,1,1,0,1,0,1,1,0,1,0,0] \n",
    "docs1 = np.array(l1).reshape(3,6) \n",
    "print(docs1) \n",
    "\n",
    "qr = np.array([1,1,0,0,1,0])\n",
    "print(qr)\n",
    "\n",
    "qr_sum = 0\n",
    "for i in range(len(qr)):\n",
    "    qr_sum += qr[i]**2\n",
    "qr_result = np.sqrt(qr_sum)\n",
    "qr_sum = qr_sum\n",
    "print(qr_sum)\n",
    "print(qr_result)\n",
    "\n",
    "\n",
    "x = np.dot(docs1, qr.T)\n",
    "print(\"x:\",x)\n",
    "\n",
    "tmp = 0\n",
    "docs_result = []\n",
    "for i in range(len(docs1)):\n",
    "    tmp=0\n",
    "    for j in range(len(docs1[0])):\n",
    "        tmp += docs1[i,j]**2\n",
    "    docs_result.append(np.sqrt(tmp))\n",
    "print(docs_result)\n",
    "\n",
    "result = []\n",
    "for i in range(3):\n",
    "    result.append(x[i]/(qr_result*docs_result[i]))\n",
    "print(result)\n",
    "\n",
    "plt.title('Cosine similarities')\n",
    "plt.bar([\"doc1={0:.2f}\".format(result[0]),\"doc1={0:.2f}\".format(result[1]),\"doc1={0:.2f}\".format(result[2])],result)\n",
    "plt.show\n",
    "\n"
   ]
  },
  {
   "cell_type": "code",
   "execution_count": null,
   "metadata": {},
   "outputs": [],
   "source": []
  }
 ],
 "metadata": {
  "kernelspec": {
   "display_name": "Python 3",
   "language": "python",
   "name": "python3"
  },
  "language_info": {
   "codemirror_mode": {
    "name": "ipython",
    "version": 3
   },
   "file_extension": ".py",
   "mimetype": "text/x-python",
   "name": "python",
   "nbconvert_exporter": "python",
   "pygments_lexer": "ipython3",
   "version": "3.8.5"
  }
 },
 "nbformat": 4,
 "nbformat_minor": 4
}
