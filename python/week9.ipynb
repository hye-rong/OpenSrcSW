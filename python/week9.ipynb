{
 "cells": [
  {
   "cell_type": "code",
   "execution_count": 6,
   "id": "71ba2ba8",
   "metadata": {},
   "outputs": [
    {
     "name": "stdout",
     "output_type": "stream",
     "text": [
      "x값을 입력하세요:2\n",
      "y값은 25\n"
     ]
    }
   ],
   "source": [
    "#실습1\n",
    "x = int(input(\"x값을 입력하세요:\"))\n",
    "y = 3*x**2+5*x+3\n",
    "print(\"y값은\",y)"
   ]
  },
  {
   "cell_type": "code",
   "execution_count": 8,
   "id": "8c8ea59d",
   "metadata": {},
   "outputs": [
    {
     "name": "stdout",
     "output_type": "stream",
     "text": [
      "반지름을 입력하세요:2\n",
      "둘레는  12.56 , 넓이는  12.56\n"
     ]
    }
   ],
   "source": [
    "#실습2\n",
    "r = int(input(\"반지름을 입력하세요:\"))\n",
    "pi = 3.14\n",
    "p = 2*pi*r\n",
    "s = pi*r*r\n",
    "print(\"둘레는 \",p,\", 넓이는 \",s)"
   ]
  },
  {
   "cell_type": "code",
   "execution_count": null,
   "id": "b3e9a3f1",
   "metadata": {},
   "outputs": [],
   "source": []
  }
 ],
 "metadata": {
  "kernelspec": {
   "display_name": "Python 3",
   "language": "python",
   "name": "python3"
  },
  "language_info": {
   "codemirror_mode": {
    "name": "ipython",
    "version": 3
   },
   "file_extension": ".py",
   "mimetype": "text/x-python",
   "name": "python",
   "nbconvert_exporter": "python",
   "pygments_lexer": "ipython3",
   "version": "3.9.0"
  }
 },
 "nbformat": 4,
 "nbformat_minor": 5
}
